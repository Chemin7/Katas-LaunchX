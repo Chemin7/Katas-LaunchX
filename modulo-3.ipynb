{
 "cells": [
  {
   "cell_type": "code",
   "execution_count": null,
   "metadata": {},
   "outputs": [],
   "source": [
    "vel = 49\n",
    "if vel > 25 :\n",
    "    print(\"Advertencia, se acerca un asteroide a gran velocidad \")\n",
    "else:\n",
    "    print(\"Por el momento no hay asteroides a gran velocidad\")   "
   ]
  },
  {
   "cell_type": "code",
   "execution_count": null,
   "metadata": {},
   "outputs": [],
   "source": [
    "vel = 19\n",
    "if vel >= 20:\n",
    "    print(\"El asterioide a producido un rayo de luz\")\n",
    "else:\n",
    "    print(\"No hay destellos de luz en el cielo\")"
   ]
  },
  {
   "cell_type": "code",
   "execution_count": null,
   "metadata": {},
   "outputs": [],
   "source": [
    "\n",
    "vel = 25\n",
    "size = 40\n",
    "if vel > 25 and size > 25:\n",
    "    print('¡Alerta, Un asteroide muy peligroso viene hacia la Tierra!')\n",
    "elif vel >= 20:\n",
    "    print('El asterioide a producido un rayo de luz')\n",
    "elif size < 25:\n",
    "    print('Nada interesante')\n",
    "else:\n",
    "    print('Nada interesante')"
   ]
  }
 ],
 "metadata": {
  "language_info": {
   "name": "python"
  },
  "orig_nbformat": 4
 },
 "nbformat": 4,
 "nbformat_minor": 2
}
